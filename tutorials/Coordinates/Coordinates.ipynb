{
 "metadata": {
  "name": "",
  "signature": "sha256:a0061958efcd4f5a97ecd1e305f2b8ec65b2cc642cd8e6d2dd7e7f0ebd809cc0"
 },
 "nbformat": 3,
 "nbformat_minor": 0,
 "worksheets": [
  {
   "cells": [
    {
     "cell_type": "heading",
     "level": 1,
     "metadata": {},
     "source": [
      "Using `astropy.coordinates` to Match Catalogs and Plan Observations"
     ]
    },
    {
     "cell_type": "markdown",
     "metadata": {},
     "source": [
      "In this tutorial, we will explore how the `astropy.coordinates` package and related astropy functionality can be used to help in planning observations or other exercises focused on large coordinate catalogs."
     ]
    },
    {
     "cell_type": "markdown",
     "metadata": {},
     "source": [
      "Note that this tutorial requires astropy v1.0 or higher."
     ]
    },
    {
     "cell_type": "code",
     "collapsed": false,
     "input": [
      "from astropy import units as u\n",
      "from astropy.coordinates import SkyCoord, Distance\n",
      "from astropy.table import Table"
     ],
     "language": "python",
     "metadata": {},
     "outputs": [],
     "prompt_number": 21
    },
    {
     "cell_type": "code",
     "collapsed": false,
     "input": [
      "hcg7_center = SkyCoord.from_name('HCG 7')\n",
      "# use this commented-out line instead of the above if you're not connected to the internet\n",
      "#hcg7_center = SkyCoord.from_name(9.81625*u.deg, 0.88806*u.deg, frame='icrs')\n",
      "hcg7_center"
     ],
     "language": "python",
     "metadata": {},
     "outputs": [
      {
       "metadata": {},
       "output_type": "pyout",
       "prompt_number": 17,
       "text": [
        "<SkyCoord (ICRS): (ra, dec) in deg\n",
        "    (9.81625, 0.88806)>"
       ]
      }
     ],
     "prompt_number": 17
    },
    {
     "cell_type": "code",
     "collapsed": false,
     "input": [
      "from astroquery.sdss import SDSS\n",
      "q=SDSS.query_region(hcg7_center, 20*u.arcmin,spectro=True,fields=['ra','dec','z'])\n",
      "q2=SDSS.query_region(hcg7_center, 20*u.arcmin,spectro=True,photoobj_fields=['ra','dec','u','g','r','i','z'])"
     ],
     "language": "python",
     "metadata": {},
     "outputs": [],
     "prompt_number": 25
    },
    {
     "cell_type": "code",
     "collapsed": false,
     "input": [
      "q.write('HCG7_SDSS_spectro.dat', format='ascii')\n",
      "q2.write('HCG7_SDSS_photo.dat', format='ascii')"
     ],
     "language": "python",
     "metadata": {},
     "outputs": [],
     "prompt_number": 27
    },
    {
     "cell_type": "code",
     "collapsed": false,
     "input": [
      "q3 = Table.read('HCG7_2MASS.tbl', format='ascii')"
     ],
     "language": "python",
     "metadata": {},
     "outputs": [],
     "prompt_number": 28
    },
    {
     "cell_type": "code",
     "collapsed": false,
     "input": [],
     "language": "python",
     "metadata": {},
     "outputs": []
    }
   ],
   "metadata": {}
  }
 ]
}