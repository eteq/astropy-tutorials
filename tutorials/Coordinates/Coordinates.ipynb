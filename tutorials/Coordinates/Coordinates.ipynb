{
 "metadata": {
  "astropy-tutorials": {
   "author": "Erik Tollerud <erik.tollerud@gmail.com>",
   "date": "June 2015",
   "link_name": "Using astropy.coordinates to Match Catalogs and Plan Observations",
   "name": "",
   "published": true,
   "description" : "Demonstrates the basic use of SkyCoord.  Also shows an exercise in catalog matching.  Also does a brief example of observation planning based on these catalogs."
  },
  "name": "",
  "signature": "sha256:4c05be095131abf249a0b4c2f3fd88b9513ddc44adfb8f781aede027a467e450"
 },
 "nbformat": 3,
 "nbformat_minor": 0,
 "worksheets": [
  {
   "cells": [
    {
     "cell_type": "heading",
     "level": 1,
     "metadata": {},
     "source": [
      "Using `astropy.coordinates` to Match Catalogs and Plan Observations"
     ]
    },
    {
     "cell_type": "markdown",
     "metadata": {},
     "source": [
      "In this tutorial, we will explore how the `astropy.coordinates` package and related astropy functionality can be used to help in planning observations or other exercises focused on large coordinate catalogs."
     ]
    },
    {
     "cell_type": "markdown",
     "metadata": {},
     "source": [
      "Note that this tutorial requires astropy v1.0 or higher."
     ]
    },
    {
     "cell_type": "code",
     "collapsed": false,
     "input": [
      "import urllib\n",
      "import IPython.display\n",
      "import numpy as np"
     ],
     "language": "python",
     "metadata": {},
     "outputs": []
    },
    {
     "cell_type": "code",
     "collapsed": false,
     "input": [
      "%matplotlib inline\n",
      "from matplotlib import pyplot as plt"
     ],
     "language": "python",
     "metadata": {},
     "outputs": []
    },
    {
     "cell_type": "code",
     "collapsed": false,
     "input": [
      "from astropy import units as u\n",
      "from astropy.coordinates import SkyCoord\n",
      "from astropy.table import Table"
     ],
     "language": "python",
     "metadata": {},
     "outputs": []
    },
    {
     "cell_type": "heading",
     "level": 2,
     "metadata": {},
     "source": [
      "Usinging Coordinates to describe on-sky locations and match catalogs"
     ]
    },
    {
     "cell_type": "markdown",
     "metadata": {},
     "source": [
      "Lets start by considering a field around the picturesque Hickson Compact Group 7.  To do anything with this, we need to get an object that represents the coordinates of the center of this group.\n",
      "\n",
      "In Astropy, the most common object you'll work with for coordinates is `SkyCoord`.  A `SkyCoord` can be created most easily directly from angles as shown below.  It's also wise to explicitly specify the frame your coordinates are in, although this is not strictly necessary because the default is ICRS. \n",
      "\n",
      "(If you're not sure what ICRS is, it's basically safe to think of it as an approximation to an equatorial system at the J2000 equinox)."
     ]
    },
    {
     "cell_type": "code",
     "collapsed": false,
     "input": [
      "hcg7_center = SkyCoord(9.81625*u.deg, 0.88806*u.deg, frame='icrs')\n",
      "hcg7_center"
     ],
     "language": "python",
     "metadata": {},
     "outputs": []
    },
    {
     "cell_type": "markdown",
     "metadata": {},
     "source": [
      "SkyCoord will also accept string-formatted coordinates, although you'll need to give units if it's not obvious from the format."
     ]
    },
    {
     "cell_type": "code",
     "collapsed": false,
     "input": [
      "SkyCoord('0h39m15.9s', '0d53m17.016s', frame='icrs')"
     ],
     "language": "python",
     "metadata": {},
     "outputs": []
    },
    {
     "cell_type": "code",
     "collapsed": false,
     "input": [
      "SkyCoord('0:39:15.9', '0:53:17.016', unit=(u.hour, u.deg), frame='icrs')"
     ],
     "language": "python",
     "metadata": {},
     "outputs": []
    },
    {
     "cell_type": "markdown",
     "metadata": {},
     "source": [
      "If the object you're interested in is in SIMBAD, you can also look it up directly from its name using the `SkyCoord.from_name()` [class method](https://julien.danjou.info/blog/2013/guide-python-static-class-abstract-methods). \n",
      "\n",
      "(Note that this requires an internet connection.  It's safe to skip if you don't have one, because we defined it above explicitly.)"
     ]
    },
    {
     "cell_type": "code",
     "collapsed": false,
     "input": [
      "hcg7_center = SkyCoord.from_name('HCG 7')\n",
      "hcg7_center"
     ],
     "language": "python",
     "metadata": {},
     "outputs": []
    },
    {
     "cell_type": "markdown",
     "metadata": {},
     "source": [
      "This object we just created has various useful ways of accessing the information contained within it.  In particular, the ``ra`` and ``dec`` attributes are specialized ``Quantity`` objects that store angles and provide pretty representations of those angles and some useful attributes to quickly convert to common angle units:"
     ]
    },
    {
     "cell_type": "code",
     "collapsed": false,
     "input": [
      "type(hcg7_center.ra), type(hcg7_center.dec)"
     ],
     "language": "python",
     "metadata": {},
     "outputs": []
    },
    {
     "cell_type": "code",
     "collapsed": false,
     "input": [
      "hcg7_center.dec"
     ],
     "language": "python",
     "metadata": {},
     "outputs": []
    },
    {
     "cell_type": "code",
     "collapsed": false,
     "input": [
      "hcg7_center.ra"
     ],
     "language": "python",
     "metadata": {},
     "outputs": []
    },
    {
     "cell_type": "code",
     "collapsed": false,
     "input": [
      "hcg7_center.ra.hour"
     ],
     "language": "python",
     "metadata": {},
     "outputs": []
    },
    {
     "cell_type": "markdown",
     "metadata": {},
     "source": [
      "Now that we have a `SkyCoord` object, we can start using it to access data from the [Sloan Digitial Sky Survey](http://www.sdss.org/).  Lets start by just trying to get a picture using the SDSS image cutout service."
     ]
    },
    {
     "cell_type": "code",
     "collapsed": false,
     "input": [
      "impix = 1024\n",
      "imsize = 10*u.arcmin\n",
      "cutoutbaseurl = 'http://skyservice.pha.jhu.edu/DR12/ImgCutout/getjpeg.aspx'\n",
      "cutouturl = cutoutbaseurl + '?' + urllib.urlencode(dict(ra=hcg7_center.ra.deg, dec=hcg7_center.dec.deg, \n",
      "                                                        width=impix, height=impix, \n",
      "                                                        scale=imsize.to(u.arcsec).value/impix))\n",
      "urllib.urlretrieve(cutouturl, 'HCG7_SDSS_cutout.jpg')"
     ],
     "language": "python",
     "metadata": {},
     "outputs": []
    },
    {
     "cell_type": "markdown",
     "metadata": {},
     "source": [
      "This required an internet connection, but if it failed don't worry: the file is included in the repository so you can just pretend it suceeded.  Now lets take a look at the image."
     ]
    },
    {
     "cell_type": "code",
     "collapsed": false,
     "input": [
      "IPython.display.Image('HCG7_SDSS_cutout.jpg')"
     ],
     "language": "python",
     "metadata": {},
     "outputs": []
    },
    {
     "cell_type": "markdown",
     "metadata": {},
     "source": [
      "Very pretty!  This shows HCG7 is in the SDSS imaging survey, so we can use the cells below to download catalogs of objects directly from the [Sloan Digitial Sky Survey](http://www.sdss.org/) SQL database using the [astroquery](https://astroquery.readthedocs.org) affiliated package. This will require an internet connection and a working install of astroquery (If you don't have these you can just skip down two cells, because the data files are provided with the repository). Depending on your version of astroquery it might also issue a warning, which you should be able to safely ignore."
     ]
    },
    {
     "cell_type": "code",
     "collapsed": false,
     "input": [
      "from astroquery.sdss import SDSS\n",
      "sdss = SDSS.query_region(hcg7_center, 20*u.arcmin, spectro=True, photoobj_fields=['ra','dec','u','g','r','i','z'])"
     ],
     "language": "python",
     "metadata": {},
     "outputs": []
    },
    {
     "cell_type": "markdown",
     "metadata": {},
     "source": [
      "`astroquery` gives us back `astropy.table.Table` objects, which we can write to disk so that we don't have to run the query every time we want to use it."
     ]
    },
    {
     "cell_type": "code",
     "collapsed": false,
     "input": [
      "sdss.write('HCG7_SDSS_photo.dat', format='ascii')"
     ],
     "language": "python",
     "metadata": {},
     "outputs": []
    },
    {
     "cell_type": "markdown",
     "metadata": {},
     "source": [
      "Now we simply load them back from disk. You can skip this step as long as your astroquery call suceeded, as the tables will be identical given that you just wrote them."
     ]
    },
    {
     "cell_type": "code",
     "collapsed": false,
     "input": [
      "sdss = Table.read('HCG7_SDSS_photo.dat', format='ascii')"
     ],
     "language": "python",
     "metadata": {},
     "outputs": []
    },
    {
     "cell_type": "markdown",
     "metadata": {},
     "source": [
      "Ok, so we have a catalog of objects we got from the SDSS.  Now lets say you have your own catalog of objects in the same field that you want to match to this SDSS catalog.  In this case, we will use a catalog extracted from the [2MASS](http://www.ipac.caltech.edu/2mass/).  We first load up this catalog into python."
     ]
    },
    {
     "cell_type": "code",
     "collapsed": false,
     "input": [
      "twomass = Table.read('HCG7_2MASS.tbl', format='ascii')"
     ],
     "language": "python",
     "metadata": {},
     "outputs": []
    },
    {
     "cell_type": "markdown",
     "metadata": {},
     "source": [
      "Now to do matching we need `SkyCoord` objects.  We'll have to build these from the tables we loaded, but it turns out that's pretty straightforward: we just grab the RA and dec columns from the table and provide them to the `SkyCoord` constructor."
     ]
    },
    {
     "cell_type": "code",
     "collapsed": false,
     "input": [
      "sdss # just to see an example of the format"
     ],
     "language": "python",
     "metadata": {},
     "outputs": []
    },
    {
     "cell_type": "code",
     "collapsed": false,
     "input": [
      "twomass # just to see an example of the format"
     ],
     "language": "python",
     "metadata": {},
     "outputs": []
    },
    {
     "cell_type": "code",
     "collapsed": false,
     "input": [
      "coo_sdss = SkyCoord(sdss['ra']*u.deg, sdss['dec']*u.deg)\n",
      "coo_twomass = SkyCoord(twomass['ra'], twomass['dec'])"
     ],
     "language": "python",
     "metadata": {},
     "outputs": []
    },
    {
     "cell_type": "markdown",
     "metadata": {},
     "source": [
      "Note a subtle difference here: you had to give units for SDSS but *not* for 2MASS.  This is because the 2MASS table has units associated with the columns, while the SDSS table does not (so you have to put them in manually).\n",
      "\n",
      "Now we simply use the ``SkyCoord.match_to_catalog_sky`` method to match the two catalogs. Note that order matters: we're matching 2MASS to SDSS because there are many *more* entires in the SDSS, so it seems likely that most 2MASS objects are in SDSS (but not vice versa)."
     ]
    },
    {
     "cell_type": "code",
     "collapsed": false,
     "input": [
      "idxsdss, d2dsdss, d3dsdss = coo_twomass.match_to_catalog_sky(coo_sdss)"
     ],
     "language": "python",
     "metadata": {},
     "outputs": []
    },
    {
     "cell_type": "markdown",
     "metadata": {},
     "source": [
      "``idx`` is the indecies into ``coo_sdss`` that get the closest matches, while ``d2d`` and ``d3d`` are the on-sky and real-space distances between the matches. In our case ``d3d`` can be ignored because we didn't give a line-of-sight distance, so its value is not particularly useful.   But ``d2d`` provides a good diagnosis of whether we actually have real matches:"
     ]
    },
    {
     "cell_type": "code",
     "collapsed": false,
     "input": [
      "plt.hist(d2dsdss.arcsec,histtype='step', range=(0,2))\n",
      "plt.xlabel('separation [arcsec]')\n",
      "plt.tight_layout()"
     ],
     "language": "python",
     "metadata": {},
     "outputs": []
    },
    {
     "cell_type": "markdown",
     "metadata": {},
     "source": [
      "Ok, they're all within an arcsecond that's promising.  But are we sure it's not just that *anything* has matches within an arcescond?  Lets check by putting a grid of random points down and comparing them to the SDSS catalog."
     ]
    },
    {
     "cell_type": "code",
     "collapsed": false,
     "input": [
      "np.random.rand(len(coo_twomass))*coo_sdss.ra.ptp() + coo_sdss.ra.min()"
     ],
     "language": "python",
     "metadata": {},
     "outputs": []
    },
    {
     "cell_type": "code",
     "collapsed": false,
     "input": [
      "sim_ras = np.random.rand(len(coo_twomass))*coo_sdss.ra.ptp() + coo_sdss.ra.min()\n",
      "sim_decs = np.random.rand(len(coo_twomass))*coo_sdss.dec.ptp() + coo_sdss.dec.min()\n",
      "# don't need units explicitly because we got them from the multiplication\n",
      "coo_simulated = SkyCoord(sim_ras, sim_decs)  \n",
      "idx, d2d, d3d = coo_simulated.match_to_catalog_sky(coo_sdss)"
     ],
     "language": "python",
     "metadata": {},
     "outputs": []
    },
    {
     "cell_type": "code",
     "collapsed": false,
     "input": [
      "plt.hist(d2d.arcsec,histtype='step')\n",
      "plt.xlabel('separation [arcsec]')\n",
      "plt.tight_layout()"
     ],
     "language": "python",
     "metadata": {},
     "outputs": []
    },
    {
     "cell_type": "markdown",
     "metadata": {},
     "source": [
      "Alright, great - looks like random sources should be more like an arc*minute* away, so we can probably trust that our matches within an arcsecond as valid.  So with that in mind, we can start computing things like colors that combine the SDSS and r 2MASS photometry."
     ]
    },
    {
     "cell_type": "code",
     "collapsed": false,
     "input": [
      "rmag = sdss['r'][idxsdss]\n",
      "grcolor = sdss['g'][idxsdss] - rmag\n",
      "rKcolor = rmag - twomass['k_m_ext']\n",
      "\n",
      "plt.subplot(1, 2, 1)\n",
      "plt.scatter(rKcolor, rmag)\n",
      "plt.xlabel('r-K')\n",
      "plt.ylabel('r')\n",
      "plt.xlim(2.5, 4)\n",
      "plt.ylim(18, 12) #mags go backwards!\n",
      "\n",
      "plt.subplot(1, 2, 2)\n",
      "plt.scatter(rKcolor, rmag)\n",
      "plt.xlabel('r-K')\n",
      "plt.ylabel('g-r')\n",
      "plt.xlim(2.5, 4)\n",
      "\n",
      "plt.tight_layout()"
     ],
     "language": "python",
     "metadata": {},
     "outputs": []
    },
    {
     "cell_type": "markdown",
     "metadata": {},
     "source": [
      "For more on what matching options are available, check out the [separation and matching section of the astropy documentation](http://astropy.readthedocs.org/en/latest/coordinates/matchsep.html).  Or for more on what you can do with `SkyCoord`, see [its API documentation](http://astropy.readthedocs.org/en/latest/api/astropy.coordinates.SkyCoord.html)."
     ]
    },
    {
     "cell_type": "heading",
     "level": 2,
     "metadata": {},
     "source": [
      "Exercises"
     ]
    },
    {
     "cell_type": "markdown",
     "metadata": {},
     "source": [
      "Check that the ``d2dsdss`` variable matches the on-sky separations you get from comaparing the matched ``coo_sdss`` entries to ``coo_twomass``.  \n",
      "\n",
      "Hint: You'll likely find the ``SkyCoord.separation()`` method useful here."
     ]
    },
    {
     "cell_type": "code",
     "collapsed": false,
     "input": [],
     "language": "python",
     "metadata": {},
     "outputs": []
    },
    {
     "cell_type": "markdown",
     "metadata": {},
     "source": [
      "Compute the *physical* separation between two (or more) objects in the catalogs.  You'll need line-of-sight distances, so a reasonable guess might be the distance to HCG 7, which is about 55 Mpc. \n",
      "\n",
      "Hint: you'll want to create new `SkyCoord` objects, but with ``distance`` attributes.  There's also a `SkyCoord` method that should do the rest of the work, but you'll have to poke around to figure out what it is."
     ]
    },
    {
     "cell_type": "code",
     "collapsed": false,
     "input": [],
     "language": "python",
     "metadata": {},
     "outputs": []
    },
    {
     "cell_type": "heading",
     "level": 2,
     "metadata": {},
     "source": [
      "Using coordinates to plan observations"
     ]
    },
    {
     "cell_type": "markdown",
     "metadata": {},
     "source": [
      "Now lets say something excites you about one of the objects in this catalog, and you want to know if and when you might go about observing it.  `astropy.coordinates` provides tools to enable this, as well."
     ]
    },
    {
     "cell_type": "heading",
     "level": 3,
     "metadata": {},
     "source": [
      "Introducting frame transformations"
     ]
    },
    {
     "cell_type": "markdown",
     "metadata": {},
     "source": [
      "To understand the code in this section, it may help to read over the [overview of the astropy coordinates scheme](http://astropy.readthedocs.org/en/latest/coordinates/index.html#overview-of-astropy-coordinates-concepts).  The key bit to understand is that all coordinates in astropy are in particular \"frames\", and we can transform between a specific `SkyCoord` object from one frame to another.  For example, we can transform our previously-defined center of HCG7 from ICRS to Galactic coordinates:"
     ]
    },
    {
     "cell_type": "code",
     "collapsed": false,
     "input": [
      "hcg7_center.galactic"
     ],
     "language": "python",
     "metadata": {},
     "outputs": []
    },
    {
     "cell_type": "markdown",
     "metadata": {},
     "source": [
      "The above is actually a special \"quick-access\" form which internally does the same as what's in the cell below: uses the `transform_to()` method to convert from one frame to another."
     ]
    },
    {
     "cell_type": "code",
     "collapsed": false,
     "input": [
      "from astropy.coordinates import Galactic\n",
      "hcg7_center.transform_to(Galactic())"
     ],
     "language": "python",
     "metadata": {},
     "outputs": []
    },
    {
     "cell_type": "markdown",
     "metadata": {},
     "source": [
      "Note that changing frames also changes some of the attributes of the object, but usually in a way that makes sense:"
     ]
    },
    {
     "cell_type": "code",
     "collapsed": false,
     "input": [
      "hcg7_center.galactic.ra  # should fail because galactic coordinates are l/b not RA/Dec"
     ],
     "language": "python",
     "metadata": {},
     "outputs": []
    },
    {
     "cell_type": "code",
     "collapsed": false,
     "input": [
      "hcg7_center.galactic.b"
     ],
     "language": "python",
     "metadata": {},
     "outputs": []
    },
    {
     "cell_type": "heading",
     "level": 3,
     "metadata": {},
     "source": [
      "Using frame transformations to get to AltAz"
     ]
    },
    {
     "cell_type": "markdown",
     "metadata": {},
     "source": [
      "To actually do anything with observability we need to convert to a frame local to an on-earth observer.  By far the most common choice is horizontal coordinates, or \"AltAz\" coordinates.  We first need to specify both where and when we want to try to observe."
     ]
    },
    {
     "cell_type": "code",
     "collapsed": false,
     "input": [
      "from astropy.coordinates import EarthLocation\n",
      "from astropy.time import Time\n",
      "\n",
      "observing_location = EarthLocation(lat='31d57.5m', \n",
      "                                   lon='-111d35.8m', \n",
      "                                   height=2096*u.m)  # Kitt Peak, Arizona\n",
      "observing_time = Time('2010-12-21 1:00')  # 1am UTC=6pm AZ mountain time"
     ],
     "language": "python",
     "metadata": {},
     "outputs": []
    },
    {
     "cell_type": "markdown",
     "metadata": {},
     "source": [
      "Now we use these to create an `AltAz` frame object.  Note that this frame has some other information about the atmosphere, which can be used to correct for atmospheric refraction.  Here we leave that alone, because the default is to ignore this effect (by setting the pressure to 0)."
     ]
    },
    {
     "cell_type": "code",
     "collapsed": false,
     "input": [
      "from astropy.coordinates import AltAz\n",
      "\n",
      "aa = AltAz(location=observing_location, obstime=observing_time)\n",
      "aa"
     ],
     "language": "python",
     "metadata": {},
     "outputs": []
    },
    {
     "cell_type": "markdown",
     "metadata": {},
     "source": [
      "Now we can just transform our ICRS `SkyCoord` to `AltAz` to get the location in the sky over Kitt Peak at the requested time."
     ]
    },
    {
     "cell_type": "code",
     "collapsed": false,
     "input": [
      "hcg7_center.transform_to(aa)"
     ],
     "language": "python",
     "metadata": {},
     "outputs": []
    },
    {
     "cell_type": "markdown",
     "metadata": {},
     "source": [
      "Alright, it's up at 6pm, but that's pretty early to be observing.  We could just try various times one at a time to see if the airmass is at a darker time, but we can do better: lets try to create an airmass plot."
     ]
    },
    {
     "cell_type": "code",
     "collapsed": false,
     "input": [
      "# this gives a Time object with an *array* of times\n",
      "delta_hours = np.linspace(0, 6, 100)*u.hour\n",
      "full_night_times = observing_time + delta_hours\n",
      "full_night_aa_frames = AltAz(location=observing_location, obstime=full_night_times)\n",
      "full_night_aa_coos = hcg7_center.transform_to(full_night_aa_frames)\n",
      "\n",
      "plt.plot(delta_hours, full_night_aa_coos.secz)\n",
      "plt.xlabel('Hours from 6pm AZ time')\n",
      "plt.ylabel('Airmass [Sec(z)]')\n",
      "plt.ylim(0.9,3)\n",
      "plt.tight_layout()"
     ],
     "language": "python",
     "metadata": {},
     "outputs": []
    },
    {
     "cell_type": "markdown",
     "metadata": {},
     "source": [
      "Great!  Looks like it's at the lowest airmass in another hour or so (7pm).  But might that might still be twilight... When should we start observing for proper dark skies?  Fortunately, astropy provide a ``get_sun`` function that can be used to check this.  Lets use it to check if we're in 18-degree twilight or not."
     ]
    },
    {
     "cell_type": "code",
     "collapsed": false,
     "input": [
      "from astropy.coordinates import get_sun\n",
      "\n",
      "full_night_sun_coos = get_sun(full_night_times).transform_to(full_night_aa_frames)\n",
      "plt.plot(delta_hours, full_night_sun_coos.alt.deg)\n",
      "plt.axhline(-18, color='k')\n",
      "plt.xlabel('Hours from 6pm AZ time')\n",
      "plt.ylabel('Sun altitude')\n",
      "plt.tight_layout()"
     ],
     "language": "python",
     "metadata": {},
     "outputs": []
    },
    {
     "cell_type": "markdown",
     "metadata": {},
     "source": [
      "Looks like it's just below 18 degrees at 7, so you should be good to go!"
     ]
    },
    {
     "cell_type": "heading",
     "level": 2,
     "metadata": {},
     "source": [
      "Exercises"
     ]
    },
    {
     "cell_type": "markdown",
     "metadata": {},
     "source": [
      "Try to actually compute to some arbitrary precision (rather than eye-balling on a plot) when 18 degree twilight or sunrise/sunset hits on that night."
     ]
    },
    {
     "cell_type": "code",
     "collapsed": false,
     "input": [],
     "language": "python",
     "metadata": {},
     "outputs": []
    },
    {
     "cell_type": "markdown",
     "metadata": {},
     "source": [
      "Try converting the HCG7 coordinates to an equatorial frame at some other equinox a while in the past (like J2000).  Do you see the precession of the equinoxes?\n",
      "\n",
      "Hint: To see a diagram of the supported frames look [here](http://docs.astropy.org/en/stable/coordinates/#module-astropy.coordinates).  One of those will do what you need if you give it the right frame attributes."
     ]
    },
    {
     "cell_type": "code",
     "collapsed": false,
     "input": [],
     "language": "python",
     "metadata": {},
     "outputs": []
    },
    {
     "cell_type": "heading",
     "level": 2,
     "metadata": {},
     "source": [
      "Wrap-up"
     ]
    },
    {
     "cell_type": "markdown",
     "metadata": {},
     "source": [
      "For lots more documentation on the many other features of `astropy.coordinates`, check out [its section of the documentation](http://astropy.readthedocs.org/en/latest/coordinates/index.html)."
     ]
    }
   ],
   "metadata": {}
  }
 ]
}