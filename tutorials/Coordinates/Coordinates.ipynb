{
 "metadata": {
  "name": "",
  "signature": "sha256:ee2ffcf333d759240df6cfb94665dc2f1fa154722a40d3228cfbecf840eb85d3"
 },
 "nbformat": 3,
 "nbformat_minor": 0,
 "worksheets": [
  {
   "cells": [
    {
     "cell_type": "heading",
     "level": 1,
     "metadata": {},
     "source": [
      "Using `astropy.coordinates` to Match Catalogs and Plan Observations"
     ]
    },
    {
     "cell_type": "markdown",
     "metadata": {},
     "source": [
      "In this tutorial, we will explore how the `astropy.coordinates` package and related astropy functionality can be used to help in planning observations or other exercises focused on large coordinate catalogs."
     ]
    },
    {
     "cell_type": "markdown",
     "metadata": {},
     "source": [
      "Note that this tutorial requires astropy v1.0 or higher."
     ]
    },
    {
     "cell_type": "code",
     "collapsed": false,
     "input": [
      "from astropy import units as u\n",
      "from astropy.coordinates import SkyCoord, Distance\n",
      "from astropy.table import Table"
     ],
     "language": "python",
     "metadata": {},
     "outputs": [],
     "prompt_number": 5
    },
    {
     "cell_type": "code",
     "collapsed": false,
     "input": [
      "import urllib\n",
      "import IPython.display"
     ],
     "language": "python",
     "metadata": {},
     "outputs": [],
     "prompt_number": 9
    },
    {
     "cell_type": "code",
     "collapsed": false,
     "input": [
      "hcg7_center = SkyCoord.from_name('HCG 7')\n",
      "# use this commented-out line instead of the above if you're not connected to the internet\n",
      "#hcg7_center = SkyCoord(9.81625*u.deg, 0.88806*u.deg, frame='icrs')\n",
      "hcg7_center"
     ],
     "language": "python",
     "metadata": {},
     "outputs": [
      {
       "metadata": {},
       "output_type": "pyout",
       "prompt_number": 3,
       "text": [
        "<SkyCoord (ICRS): (ra, dec) in deg\n",
        "    (9.81625, 0.88806)>"
       ]
      }
     ],
     "prompt_number": 3
    },
    {
     "cell_type": "code",
     "collapsed": false,
     "input": [
      "from astroquery.sdss import SDSS\n",
      "q = SDSS.query_region(hcg7_center, 20*u.arcmin,spectro=True,fields=['ra','dec','z'])\n",
      "q2 = SDSS.query_region(hcg7_center, 20*u.arcmin,spectro=True,photoobj_fields=['ra','dec','u','g','r','i','z'])"
     ],
     "language": "python",
     "metadata": {},
     "outputs": [],
     "prompt_number": 25
    },
    {
     "cell_type": "code",
     "collapsed": false,
     "input": [
      "q.write('HCG7_SDSS_spectro.dat', format='ascii')\n",
      "q2.write('HCG7_SDSS_photo.dat', format='ascii')"
     ],
     "language": "python",
     "metadata": {},
     "outputs": [],
     "prompt_number": 27
    },
    {
     "cell_type": "code",
     "collapsed": false,
     "input": [
      "q = Table.read('HCG7_SDSS_spectro.dat', format='ascii')\n",
      "q2 = Table.read('HCG7_SDSS_photo.dat', format='ascii')"
     ],
     "language": "python",
     "metadata": {},
     "outputs": [],
     "prompt_number": 37
    },
    {
     "cell_type": "code",
     "collapsed": false,
     "input": [
      "q3 = Table.read('HCG7_2MASS.tbl', format='ascii')"
     ],
     "language": "python",
     "metadata": {},
     "outputs": [],
     "prompt_number": 41
    },
    {
     "cell_type": "code",
     "collapsed": false,
     "input": [
      "impix = 1024\n",
      "imsize = 10*u.arcmin\n",
      "cutoutbaseurl = 'http://skyservice.pha.jhu.edu/DR12/ImgCutout/getjpeg.aspx'\n",
      "cutouturl = cutoutbaseurl + '?' + urllib.urlencode(dict(ra=hcg7_center.ra.deg, dec=hcg7_center.dec.deg, \n",
      "                                                        width=impix, height=impix, \n",
      "                                                        scale=imsize.to(u.arcsec).value/impix))\n",
      "urllib.urlretrieve(cutouturl, 'HCG7_SDSS_cutout.jpg')\n",
      "IPython.display.Image('HCG7_SDSS_cutout.jpg')"
     ],
     "language": "python",
     "metadata": {},
     "outputs": [
      {
       "jpeg": "[encoded data removed]",
       "metadata": {},
       "output_type": "pyout",
       "prompt_number": 35,
       "text": [
        "<IPython.core.display.Image at 0x11123f150>"
       ]
      }
     ],
     "prompt_number": 35
    },
    {
     "cell_type": "code",
     "collapsed": false,
     "input": [
      "q"
     ],
     "language": "python",
     "metadata": {},
     "outputs": [
      {
       "html": [
        "&lt;Table masked=False length=905&gt;\n",
        "<table id=\"table4582541968\">\n",
        "<thead><tr><th>ra</th><th>dec</th><th>z</th></tr></thead>\n",
        "<thead><tr><th>float64</th><th>float64</th><th>float64</th></tr></thead>\n",
        "<tr><td>9.68581702529</td><td>0.97501952294</td><td>-8.844521e-05</td></tr>\n",
        "<tr><td>9.93957436916</td><td>0.837700364488</td><td>0.0002115225</td></tr>\n",
        "<tr><td>10.1257292163</td><td>1.12332873671</td><td>0.0004185657</td></tr>\n",
        "<tr><td>9.7016412129</td><td>0.705532799002</td><td>0.3417443</td></tr>\n",
        "<tr><td>9.79410199627</td><td>0.989872387554</td><td>0.2412732</td></tr>\n",
        "<tr><td>9.9238365946</td><td>0.777110644782</td><td>-0.0001039376</td></tr>\n",
        "<tr><td>10.0201915523</td><td>0.643657815777</td><td>-0.0001408657</td></tr>\n",
        "<tr><td>10.1278326326</td><td>0.773840299602</td><td>0.3661023</td></tr>\n",
        "<tr><td>9.73847685388</td><td>1.16983663513</td><td>0.4237888</td></tr>\n",
        "<tr><td>9.99582645518</td><td>0.567665400483</td><td>0.5254667</td></tr>\n",
        "<tr><td>...</td><td>...</td><td>...</td></tr>\n",
        "<tr><td>10.0962896435</td><td>0.75846152856</td><td>0.2987661</td></tr>\n",
        "<tr><td>9.9723558552</td><td>1.20286431805</td><td>0.4239819</td></tr>\n",
        "<tr><td>9.52316610761</td><td>0.637961946767</td><td>-6.667942e-05</td></tr>\n",
        "<tr><td>9.69056643963</td><td>0.755271229226</td><td>0.5582022</td></tr>\n",
        "<tr><td>9.91404352649</td><td>1.10767806593</td><td>0.650629</td></tr>\n",
        "<tr><td>10.0759112924</td><td>0.925261773965</td><td>2.838574</td></tr>\n",
        "<tr><td>9.6490514556</td><td>1.11038219355</td><td>0.0001812489</td></tr>\n",
        "<tr><td>9.95022988104</td><td>0.617095402179</td><td>-0.001136574</td></tr>\n",
        "<tr><td>10.079230954</td><td>1.05410629865</td><td>0.1041135</td></tr>\n",
        "<tr><td>9.98815452654</td><td>0.979933500192</td><td>0.4259385</td></tr>\n",
        "</table>"
       ],
       "metadata": {},
       "output_type": "pyout",
       "prompt_number": 38,
       "text": [
        "<Table masked=False length=905>\n",
        "      ra           dec             z      \n",
        "   float64       float64        float64   \n",
        "------------- -------------- -------------\n",
        "9.68581702529  0.97501952294 -8.844521e-05\n",
        "9.93957436916 0.837700364488  0.0002115225\n",
        "10.1257292163  1.12332873671  0.0004185657\n",
        " 9.7016412129 0.705532799002     0.3417443\n",
        "9.79410199627 0.989872387554     0.2412732\n",
        " 9.9238365946 0.777110644782 -0.0001039376\n",
        "10.0201915523 0.643657815777 -0.0001408657\n",
        "10.1278326326 0.773840299602     0.3661023\n",
        "9.73847685388  1.16983663513     0.4237888\n",
        "9.99582645518 0.567665400483     0.5254667\n",
        "          ...            ...           ...\n",
        "10.0962896435  0.75846152856     0.2987661\n",
        " 9.9723558552  1.20286431805     0.4239819\n",
        "9.52316610761 0.637961946767 -6.667942e-05\n",
        "9.69056643963 0.755271229226     0.5582022\n",
        "9.91404352649  1.10767806593      0.650629\n",
        "10.0759112924 0.925261773965      2.838574\n",
        " 9.6490514556  1.11038219355  0.0001812489\n",
        "9.95022988104 0.617095402179  -0.001136574\n",
        " 10.079230954  1.05410629865     0.1041135\n",
        "9.98815452654 0.979933500192     0.4259385"
       ]
      }
     ],
     "prompt_number": 38
    },
    {
     "cell_type": "code",
     "collapsed": false,
     "input": [
      "q2"
     ],
     "language": "python",
     "metadata": {},
     "outputs": [
      {
       "html": [
        "&lt;Table masked=False length=679&gt;\n",
        "<table id=\"table4581897168\">\n",
        "<thead><tr><th>ra</th><th>dec</th><th>u</th><th>g</th><th>r</th><th>i</th><th>z</th></tr></thead>\n",
        "<thead><tr><th>float64</th><th>float64</th><th>float64</th><th>float64</th><th>float64</th><th>float64</th><th>float64</th></tr></thead>\n",
        "<tr><td>10.0459048075</td><td>0.586799971838</td><td>20.65983</td><td>18.04074</td><td>16.72026</td><td>16.1683</td><td>15.8758</td></tr>\n",
        "<tr><td>9.82344685945</td><td>0.763393080708</td><td>22.12629</td><td>19.49228</td><td>18.10991</td><td>16.7961</td><td>16.10499</td></tr>\n",
        "<tr><td>9.50636373616</td><td>0.673465810374</td><td>22.21774</td><td>21.80013</td><td>20.92109</td><td>20.38004</td><td>20.06734</td></tr>\n",
        "<tr><td>9.52337926156</td><td>0.579330766247</td><td>19.23508</td><td>18.33377</td><td>18.02214</td><td>17.91326</td><td>17.86429</td></tr>\n",
        "<tr><td>9.63926688269</td><td>1.09103650326</td><td>22.13566</td><td>21.99696</td><td>20.66645</td><td>19.85435</td><td>20.04063</td></tr>\n",
        "<tr><td>9.73899104935</td><td>1.21275695479</td><td>20.65073</td><td>19.24755</td><td>18.71561</td><td>18.51509</td><td>18.35635</td></tr>\n",
        "<tr><td>9.7488635755</td><td>1.06988761983</td><td>21.53682</td><td>18.87585</td><td>17.48279</td><td>16.77505</td><td>16.40015</td></tr>\n",
        "<tr><td>9.86847698879</td><td>0.803655598259</td><td>20.46826</td><td>17.88408</td><td>16.59048</td><td>16.05468</td><td>15.71724</td></tr>\n",
        "<tr><td>10.0160771375</td><td>0.98173761343</td><td>22.97636</td><td>22.02778</td><td>20.61851</td><td>19.84849</td><td>19.12682</td></tr>\n",
        "<tr><td>10.1139326437</td><td>0.796522770204</td><td>26.20445</td><td>22.74818</td><td>20.97065</td><td>19.90827</td><td>19.28423</td></tr>\n",
        "<tr><td>...</td><td>...</td><td>...</td><td>...</td><td>...</td><td>...</td><td>...</td></tr>\n",
        "<tr><td>9.6694794506</td><td>0.782898442446</td><td>22.45376</td><td>19.9299</td><td>18.7231</td><td>18.21471</td><td>17.86209</td></tr>\n",
        "<tr><td>9.90152283246</td><td>1.0076186198</td><td>22.76141</td><td>23.23507</td><td>21.89018</td><td>20.36312</td><td>19.8429</td></tr>\n",
        "<tr><td>9.52448263435</td><td>0.741263026922</td><td>25.10077</td><td>21.43207</td><td>19.96109</td><td>18.78814</td><td>18.16789</td></tr>\n",
        "<tr><td>9.78088503629</td><td>0.929585238463</td><td>22.33694</td><td>19.75964</td><td>18.30135</td><td>17.53109</td><td>17.10474</td></tr>\n",
        "<tr><td>9.82501334341</td><td>0.699809594848</td><td>21.01002</td><td>18.90558</td><td>17.39226</td><td>16.84495</td><td>16.53332</td></tr>\n",
        "<tr><td>9.91764046471</td><td>0.71155275026</td><td>20.1033</td><td>19.85647</td><td>19.94004</td><td>19.70805</td><td>19.78374</td></tr>\n",
        "<tr><td>9.95974339529</td><td>0.595553454876</td><td>19.47441</td><td>17.9151</td><td>16.9639</td><td>16.51964</td><td>16.16652</td></tr>\n",
        "<tr><td>9.61723393563</td><td>1.05647433827</td><td>25.69152</td><td>20.92082</td><td>19.04393</td><td>18.39367</td><td>18.10372</td></tr>\n",
        "<tr><td>9.99670313688</td><td>0.887246690169</td><td>19.44362</td><td>18.50431</td><td>18.23739</td><td>18.13771</td><td>18.10182</td></tr>\n",
        "<tr><td>9.89381810796</td><td>0.851181247255</td><td>23.51578</td><td>20.46127</td><td>19.02599</td><td>17.8864</td><td>17.30477</td></tr>\n",
        "</table>"
       ],
       "metadata": {},
       "output_type": "pyout",
       "prompt_number": 39,
       "text": [
        "<Table masked=False length=679>\n",
        "      ra           dec          u        g        r        i        z    \n",
        "   float64       float64     float64  float64  float64  float64  float64 \n",
        "------------- -------------- -------- -------- -------- -------- --------\n",
        "10.0459048075 0.586799971838 20.65983 18.04074 16.72026  16.1683  15.8758\n",
        "9.82344685945 0.763393080708 22.12629 19.49228 18.10991  16.7961 16.10499\n",
        "9.50636373616 0.673465810374 22.21774 21.80013 20.92109 20.38004 20.06734\n",
        "9.52337926156 0.579330766247 19.23508 18.33377 18.02214 17.91326 17.86429\n",
        "9.63926688269  1.09103650326 22.13566 21.99696 20.66645 19.85435 20.04063\n",
        "9.73899104935  1.21275695479 20.65073 19.24755 18.71561 18.51509 18.35635\n",
        " 9.7488635755  1.06988761983 21.53682 18.87585 17.48279 16.77505 16.40015\n",
        "9.86847698879 0.803655598259 20.46826 17.88408 16.59048 16.05468 15.71724\n",
        "10.0160771375  0.98173761343 22.97636 22.02778 20.61851 19.84849 19.12682\n",
        "10.1139326437 0.796522770204 26.20445 22.74818 20.97065 19.90827 19.28423\n",
        "          ...            ...      ...      ...      ...      ...      ...\n",
        " 9.6694794506 0.782898442446 22.45376  19.9299  18.7231 18.21471 17.86209\n",
        "9.90152283246   1.0076186198 22.76141 23.23507 21.89018 20.36312  19.8429\n",
        "9.52448263435 0.741263026922 25.10077 21.43207 19.96109 18.78814 18.16789\n",
        "9.78088503629 0.929585238463 22.33694 19.75964 18.30135 17.53109 17.10474\n",
        "9.82501334341 0.699809594848 21.01002 18.90558 17.39226 16.84495 16.53332\n",
        "9.91764046471  0.71155275026  20.1033 19.85647 19.94004 19.70805 19.78374\n",
        "9.95974339529 0.595553454876 19.47441  17.9151  16.9639 16.51964 16.16652\n",
        "9.61723393563  1.05647433827 25.69152 20.92082 19.04393 18.39367 18.10372\n",
        "9.99670313688 0.887246690169 19.44362 18.50431 18.23739 18.13771 18.10182\n",
        "9.89381810796 0.851181247255 23.51578 20.46127 19.02599  17.8864 17.30477"
       ]
      }
     ],
     "prompt_number": 39
    },
    {
     "cell_type": "code",
     "collapsed": false,
     "input": [
      "q3"
     ],
     "language": "python",
     "metadata": {},
     "outputs": [
      {
       "html": [
        "&lt;Table masked=True length=23&gt;\n",
        "<table id=\"table4581806160\">\n",
        "<thead><tr><th>designation</th><th>ra</th><th>dec</th><th>r_k20fe</th><th>j_m_k20fe</th><th>j_msig_k20fe</th><th>j_flg_k20fe</th><th>h_m_k20fe</th><th>h_msig_k20fe</th><th>h_flg_k20fe</th><th>k_m_k20fe</th><th>k_msig_k20fe</th><th>k_flg_k20fe</th><th>k_ba</th><th>k_phi</th><th>sup_ba</th><th>sup_phi</th><th>r_ext</th><th>j_m_ext</th><th>j_msig_ext</th><th>h_m_ext</th><th>h_msig_ext</th><th>k_m_ext</th><th>k_msig_ext</th><th>cc_flg</th><th>dist</th><th>angle</th></tr></thead>\n",
        "<thead><tr><th></th><th>deg</th><th>deg</th><th>arcsec</th><th>mag</th><th>mag</th><th></th><th>mag</th><th>mag</th><th></th><th>mag</th><th>mag</th><th></th><th></th><th>deg</th><th></th><th>deg</th><th>arcsec</th><th>mag</th><th>mag</th><th>mag</th><th>mag</th><th>mag</th><th>mag</th><th></th><th>arcsec</th><th>deg</th></tr></thead>\n",
        "<thead><tr><th>string128</th><th>float64</th><th>float64</th><th>float64</th><th>float64</th><th>float64</th><th>int64</th><th>float64</th><th>float64</th><th>int64</th><th>float64</th><th>float64</th><th>int64</th><th>float64</th><th>int64</th><th>float64</th><th>int64</th><th>float64</th><th>float64</th><th>float64</th><th>float64</th><th>float64</th><th>float64</th><th>float64</th><th>string8</th><th>float64</th><th>float64</th></tr></thead>\n",
        "<tr><td>00402069+0052508</td><td>10.086218</td><td>0.880798</td><td>9.4</td><td>13.835</td><td>0.068</td><td>0</td><td>13.01</td><td>0.086</td><td>0</td><td>12.588</td><td>0.089</td><td>0</td><td>0.8</td><td>70</td><td>0.82</td><td>35</td><td>18.62</td><td>13.632</td><td>0.088</td><td>12.744</td><td>0.104</td><td>12.398</td><td>0.105</td><td>0</td><td>972.120611</td><td>91.538952</td></tr>\n",
        "<tr><td>00395984+0103545</td><td>9.99935</td><td>1.06514</td><td>12.9</td><td>12.925</td><td>0.035</td><td>0</td><td>12.183</td><td>0.042</td><td>0</td><td>11.89</td><td>0.067</td><td>0</td><td>0.8</td><td>35</td><td>0.7</td><td>40</td><td>35.9</td><td>12.469</td><td>0.048</td><td>11.91</td><td>0.066</td><td>11.522</td><td>0.087</td><td>0</td><td>916.927636</td><td>45.951861</td></tr>\n",
        "<tr><td>00401849+0049448</td><td>10.077062</td><td>0.82913</td><td>6.0</td><td>14.918</td><td>0.086</td><td>0</td><td>14.113</td><td>0.107</td><td>0</td><td>13.714</td><td>0.103</td><td>0</td><td>0.6</td><td>-15</td><td>1.0</td><td>90</td><td>11.35</td><td>14.631</td><td>0.121</td><td>13.953</td><td>0.169</td><td>13.525</td><td>0.161</td><td>0</td><td>962.489231</td><td>102.73149</td></tr>\n",
        "<tr><td>00395277+0057124</td><td>9.969907</td><td>0.953472</td><td>5.3</td><td>14.702</td><td>0.049</td><td>0</td><td>14.248</td><td>0.069</td><td>0</td><td>13.899</td><td>0.095</td><td>0</td><td>0.6</td><td>-60</td><td>0.44</td><td>-50</td><td>10.59</td><td>14.62</td><td>0.144</td><td>14.15</td><td>0.296</td><td>13.73</td><td>0.2</td><td>0</td><td>601.136444</td><td>66.93659</td></tr>\n",
        "<tr><td>00401864+0047245</td><td>10.077704</td><td>0.790143</td><td>7.6</td><td>15.585</td><td>0.134</td><td>1</td><td>15.003</td><td>0.18</td><td>1</td><td>14.049</td><td>0.142</td><td>1</td><td>0.5</td><td>30</td><td>0.46</td><td>30</td><td>14.48</td><td>14.977</td><td>0.138</td><td>14.855</td><td>0.303</td><td>13.653</td><td>0.18</td><td>0</td><td>1004.982128</td><td>110.53147</td></tr>\n",
        "<tr><td>00393485+0051355</td><td>9.895219</td><td>0.859882</td><td>39.3</td><td>11.415</td><td>0.031</td><td>3</td><td>10.755</td><td>0.044</td><td>3</td><td>10.514</td><td>0.068</td><td>3</td><td>0.6</td><td>-30</td><td>0.7</td><td>-60</td><td>92.29</td><td>11.415</td><td>0.018</td><td>10.155</td><td>0.054</td><td>9.976</td><td>0.085</td><td>0</td><td>301.813395</td><td>109.639102</td></tr>\n",
        "<tr><td>00392964+0103495</td><td>9.873526</td><td>1.063769</td><td>10.9</td><td>14.463</td><td>0.065</td><td>0</td><td>13.618</td><td>0.067</td><td>0</td><td>13.258</td><td>0.091</td><td>0</td><td>0.4</td><td>55</td><td>0.28</td><td>60</td><td>20.35</td><td>14.2</td><td>0.086</td><td>13.363</td><td>0.091</td><td>13.101</td><td>0.133</td><td>0</td><td>665.301415</td><td>18.051526</td></tr>\n",
        "<tr><td>00403343+0049079</td><td>10.139293</td><td>0.818865</td><td>5.0</td><td>15.484</td><td>0.15</td><td>0</td><td>--</td><td>--</td><td>--</td><td>13.97</td><td>0.137</td><td>0</td><td>1.0</td><td>90</td><td>1.0</td><td>90</td><td>10.05</td><td>15.035</td><td>0.183</td><td>14.725</td><td>0.0</td><td>13.654</td><td>0.189</td><td>0</td><td>1189.207905</td><td>102.088788</td></tr>\n",
        "<tr><td>00393319+0035505</td><td>9.888305</td><td>0.597381</td><td>11.5</td><td>13.156</td><td>0.033</td><td>0</td><td>12.509</td><td>0.043</td><td>0</td><td>12.073</td><td>0.059</td><td>0</td><td>0.6</td><td>-55</td><td>0.52</td><td>-40</td><td>21.64</td><td>13.026</td><td>0.04</td><td>12.247</td><td>0.046</td><td>11.978</td><td>0.065</td><td>0</td><td>1078.11027</td><td>166.0785</td></tr>\n",
        "<tr><td>...</td><td>...</td><td>...</td><td>...</td><td>...</td><td>...</td><td>...</td><td>...</td><td>...</td><td>...</td><td>...</td><td>...</td><td>...</td><td>...</td><td>...</td><td>...</td><td>...</td><td>...</td><td>...</td><td>...</td><td>...</td><td>...</td><td>...</td><td>...</td><td>...</td><td>...</td><td>...</td></tr>\n",
        "<tr><td>00391798+0041588</td><td>9.824936</td><td>0.699687</td><td>6.1</td><td>15.685</td><td>0.168</td><td>0</td><td>14.89</td><td>0.191</td><td>0</td><td>14.003</td><td>0.155</td><td>0</td><td>1.0</td><td>90</td><td>1.0</td><td>90</td><td>11.4</td><td>15.677</td><td>0.312</td><td>14.415</td><td>0.226</td><td>13.568</td><td>0.19</td><td>0</td><td>678.863209</td><td>177.360117</td></tr>\n",
        "<tr><td>00384796+0034572</td><td>9.699858</td><td>0.582578</td><td>5.1</td><td>14.925</td><td>0.077</td><td>0</td><td>14.224</td><td>0.114</td><td>0</td><td>13.536</td><td>0.079</td><td>0</td><td>1.0</td><td>90</td><td>1.0</td><td>90</td><td>10.2</td><td>14.839</td><td>0.133</td><td>14.111</td><td>0.192</td><td>13.461</td><td>0.137</td><td>0</td><td>1176.842625</td><td>200.856597</td></tr>\n",
        "<tr><td>00390392+0050579</td><td>9.766345</td><td>0.849419</td><td>5.0</td><td>14.895</td><td>0.07</td><td>0</td><td>14.238</td><td>0.087</td><td>0</td><td>13.834</td><td>0.11</td><td>0</td><td>1.0</td><td>90</td><td>1.0</td><td>90</td><td>10.05</td><td>14.706</td><td>0.107</td><td>14.033</td><td>0.132</td><td>13.75</td><td>0.187</td><td>0</td><td>227.201453</td><td>232.24689</td></tr>\n",
        "<tr><td>00391339+0051508</td><td>9.805797</td><td>0.864135</td><td>52.8</td><td>10.362</td><td>0.014</td><td>0</td><td>9.631</td><td>0.017</td><td>0</td><td>9.334</td><td>0.024</td><td>0</td><td>0.3</td><td>-15</td><td>0.4</td><td>-15</td><td>75.02</td><td>10.279</td><td>0.015</td><td>9.527</td><td>0.016</td><td>9.247</td><td>0.023</td><td>0</td><td>93.990015</td><td>203.598476</td></tr>\n",
        "<tr><td>00391786+0054458</td><td>9.824418</td><td>0.912743</td><td>27.9</td><td>11.082</td><td>0.016</td><td>0</td><td>10.384</td><td>0.022</td><td>0</td><td>10.147</td><td>0.032</td><td>0</td><td>0.5</td><td>5</td><td>0.7</td><td>5</td><td>42.75</td><td>10.914</td><td>0.018</td><td>10.251</td><td>0.021</td><td>10.031</td><td>0.03</td><td>0</td><td>93.596555</td><td>18.308033</td></tr>\n",
        "<tr><td>00385879+0057269</td><td>9.744971</td><td>0.957478</td><td>5.0</td><td>15.535</td><td>0.122</td><td>0</td><td>14.796</td><td>0.145</td><td>0</td><td>14.278</td><td>0.165</td><td>0</td><td>1.0</td><td>90</td><td>1.0</td><td>90</td><td>10.05</td><td>15.535</td><td>0.122</td><td>14.623</td><td>0.227</td><td>14.147</td><td>0.269</td><td>0</td><td>358.163568</td><td>314.246475</td></tr>\n",
        "<tr><td>00391879+0053308</td><td>9.828303</td><td>0.891909</td><td>15.4</td><td>13.044</td><td>0.047</td><td>0</td><td>12.412</td><td>0.063</td><td>0</td><td>12.077</td><td>0.094</td><td>0</td><td>0.8</td><td>60</td><td>0.74</td><td>65</td><td>23.62</td><td>12.755</td><td>0.048</td><td>12.283</td><td>0.072</td><td>11.713</td><td>0.096</td><td>0</td><td>45.544562</td><td>72.287562</td></tr>\n",
        "<tr><td>00391213+0102408</td><td>9.80055</td><td>1.044691</td><td>5.0</td><td>15.568</td><td>0.126</td><td>0</td><td>15.047</td><td>0.181</td><td>0</td><td>14.356</td><td>0.176</td><td>0</td><td>1.0</td><td>90</td><td>1.0</td><td>90</td><td>10.05</td><td>15.295</td><td>0.181</td><td>15.047</td><td>0.181</td><td>14.067</td><td>0.25</td><td>0</td><td>566.696375</td><td>354.276982</td></tr>\n",
        "<tr><td>00383990+0104442</td><td>9.666268</td><td>1.078968</td><td>5.3</td><td>15.255</td><td>0.108</td><td>0</td><td>14.232</td><td>0.121</td><td>0</td><td>13.873</td><td>0.113</td><td>0</td><td>1.0</td><td>90</td><td>1.0</td><td>90</td><td>10.44</td><td>15.151</td><td>0.18</td><td>13.812</td><td>0.149</td><td>13.552</td><td>0.155</td><td>0</td><td>873.946372</td><td>321.851314</td></tr>\n",
        "<tr><td>00384916+0050212</td><td>9.704872</td><td>0.839244</td><td>5.1</td><td>15.075</td><td>0.088</td><td>0</td><td>14.651</td><td>0.17</td><td>0</td><td>13.804</td><td>0.101</td><td>0</td><td>1.0</td><td>90</td><td>1.0</td><td>90</td><td>10.2</td><td>15.053</td><td>0.159</td><td>14.651</td><td>0.17</td><td>13.682</td><td>0.171</td><td>0</td><td>437.740484</td><td>246.331036</td></tr>\n",
        "</table>"
       ],
       "metadata": {},
       "output_type": "pyout",
       "prompt_number": 42,
       "text": [
        "<Table masked=True length=23>\n",
        "  designation        ra      dec    r_k20fe ...  cc_flg     dist      angle   \n",
        "                    deg      deg     arcsec ...            arcsec      deg    \n",
        "   string128      float64  float64  float64 ... string8   float64    float64  \n",
        "---------------- --------- -------- ------- ... ------- ----------- ----------\n",
        "00402069+0052508 10.086218 0.880798     9.4 ...       0  972.120611  91.538952\n",
        "00395984+0103545   9.99935  1.06514    12.9 ...       0  916.927636  45.951861\n",
        "00401849+0049448 10.077062  0.82913     6.0 ...       0  962.489231  102.73149\n",
        "00395277+0057124  9.969907 0.953472     5.3 ...       0  601.136444   66.93659\n",
        "00401864+0047245 10.077704 0.790143     7.6 ...       0 1004.982128  110.53147\n",
        "00393485+0051355  9.895219 0.859882    39.3 ...       0  301.813395 109.639102\n",
        "00392964+0103495  9.873526 1.063769    10.9 ...       0  665.301415  18.051526\n",
        "00403343+0049079 10.139293 0.818865     5.0 ...       0 1189.207905 102.088788\n",
        "00393319+0035505  9.888305 0.597381    11.5 ...       0  1078.11027   166.0785\n",
        "             ...       ...      ...     ... ...     ...         ...        ...\n",
        "00391798+0041588  9.824936 0.699687     6.1 ...       0  678.863209 177.360117\n",
        "00384796+0034572  9.699858 0.582578     5.1 ...       0 1176.842625 200.856597\n",
        "00390392+0050579  9.766345 0.849419     5.0 ...       0  227.201453  232.24689\n",
        "00391339+0051508  9.805797 0.864135    52.8 ...       0   93.990015 203.598476\n",
        "00391786+0054458  9.824418 0.912743    27.9 ...       0   93.596555  18.308033\n",
        "00385879+0057269  9.744971 0.957478     5.0 ...       0  358.163568 314.246475\n",
        "00391879+0053308  9.828303 0.891909    15.4 ...       0   45.544562  72.287562\n",
        "00391213+0102408   9.80055 1.044691     5.0 ...       0  566.696375 354.276982\n",
        "00383990+0104442  9.666268 1.078968     5.3 ...       0  873.946372 321.851314\n",
        "00384916+0050212  9.704872 0.839244     5.1 ...       0  437.740484 246.331036"
       ]
      }
     ],
     "prompt_number": 42
    },
    {
     "cell_type": "code",
     "collapsed": false,
     "input": [],
     "language": "python",
     "metadata": {},
     "outputs": []
    }
   ],
   "metadata": {}
  }
 ]
}